{
 "cells": [
  {
   "cell_type": "code",
   "execution_count": null,
   "id": "153f4f05-a68f-46bc-8cdf-b4c353129736",
   "metadata": {},
   "outputs": [],
   "source": [
    "import numpy as np\n",
    "import pandas as pd\n",
    "import matplotlib.pyplot as plt\n",
    "from sklearn.model_selection import train_test_split\n",
    "from sklearn.linear_model import LinearRegression\n",
    "from sklearn.metrics import mean_squared_error, r2_score\n",
    "from sklearn.datasets import fetch_california_housing\n",
    "\n",
    "housing = fetch_california_housing()\n",
    "data = pd.DataFrame(housing.data, columns = housing.feature_names)\n",
    "\n",
    "data['Price'] = housing.target\n",
    "\n",
    "print(\"First 5 rows : \\n\")\n",
    "data.head()\n",
    "\n",
    "print(\"Checking for null values : \")\n",
    "data.isnull().sum()\n",
    "\n",
    "data.plot()\n",
    "plt.show()\n",
    "\n",
    "print(\"Covariance Matrix : \")\n",
    "data.cov()\n",
    "\n",
    "print(\"Correlation Matrix : \")\n",
    "data.corr()\n",
    "\n",
    "x = data.drop('Price', axis = 1)\n",
    "y = data['Price']\n",
    "xtrain, xtest, ytrain, ytest = train_test_split(x,y, test_size = 0.25, random_state = 42)\n",
    "\n",
    "model = LinearRegression()\n",
    "model.fit(xtrain, ytrain)\n",
    "\n",
    "ypred = model.predict(xtest)\n",
    "mse = mean_squared_error(ytest, ypred)\n",
    "print(f'\\n Mean Squared Error : {mse}')\n",
    "r2 = r2_score(ytest, ypred)\n",
    "print(f'\\n R2 Score : {r2}')\n",
    "\n",
    "a = 1-(mse/np.var(ytest))\n",
    "a"
   ]
  }
 ],
 "metadata": {
  "kernelspec": {
   "display_name": "Python 3 (ipykernel)",
   "language": "python",
   "name": "python3"
  },
  "language_info": {
   "codemirror_mode": {
    "name": "ipython",
    "version": 3
   },
   "file_extension": ".py",
   "mimetype": "text/x-python",
   "name": "python",
   "nbconvert_exporter": "python",
   "pygments_lexer": "ipython3",
   "version": "3.10.11"
  }
 },
 "nbformat": 4,
 "nbformat_minor": 5
}
